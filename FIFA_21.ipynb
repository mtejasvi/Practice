{
 "cells": [
  {
   "cell_type": "code",
   "execution_count": 2,
   "id": "19189dd0",
   "metadata": {},
   "outputs": [],
   "source": [
    "import pandas as pd\n",
    "import numpy as np"
   ]
  },
  {
   "cell_type": "code",
   "execution_count": 3,
   "id": "aa5b80c5",
   "metadata": {},
   "outputs": [],
   "source": [
    "df = pd.read_csv('players_21.csv')"
   ]
  },
  {
   "cell_type": "code",
   "execution_count": 4,
   "id": "15e08e19",
   "metadata": {},
   "outputs": [
    {
     "data": {
      "text/html": [
       "<div>\n",
       "<style scoped>\n",
       "    .dataframe tbody tr th:only-of-type {\n",
       "        vertical-align: middle;\n",
       "    }\n",
       "\n",
       "    .dataframe tbody tr th {\n",
       "        vertical-align: top;\n",
       "    }\n",
       "\n",
       "    .dataframe thead th {\n",
       "        text-align: right;\n",
       "    }\n",
       "</style>\n",
       "<table border=\"1\" class=\"dataframe\">\n",
       "  <thead>\n",
       "    <tr style=\"text-align: right;\">\n",
       "      <th></th>\n",
       "      <th>sofifa_id</th>\n",
       "      <th>player_url</th>\n",
       "      <th>short_name</th>\n",
       "      <th>long_name</th>\n",
       "      <th>age</th>\n",
       "      <th>dob</th>\n",
       "      <th>height_cm</th>\n",
       "      <th>weight_kg</th>\n",
       "      <th>nationality</th>\n",
       "      <th>club_name</th>\n",
       "      <th>...</th>\n",
       "      <th>lwb</th>\n",
       "      <th>ldm</th>\n",
       "      <th>cdm</th>\n",
       "      <th>rdm</th>\n",
       "      <th>rwb</th>\n",
       "      <th>lb</th>\n",
       "      <th>lcb</th>\n",
       "      <th>cb</th>\n",
       "      <th>rcb</th>\n",
       "      <th>rb</th>\n",
       "    </tr>\n",
       "  </thead>\n",
       "  <tbody>\n",
       "    <tr>\n",
       "      <th>0</th>\n",
       "      <td>158023</td>\n",
       "      <td>https://sofifa.com/player/158023/lionel-messi/...</td>\n",
       "      <td>L. Messi</td>\n",
       "      <td>Lionel Andrés Messi Cuccittini</td>\n",
       "      <td>33</td>\n",
       "      <td>1987-06-24</td>\n",
       "      <td>170</td>\n",
       "      <td>72</td>\n",
       "      <td>Argentina</td>\n",
       "      <td>FC Barcelona</td>\n",
       "      <td>...</td>\n",
       "      <td>66+3</td>\n",
       "      <td>65+3</td>\n",
       "      <td>65+3</td>\n",
       "      <td>65+3</td>\n",
       "      <td>66+3</td>\n",
       "      <td>62+3</td>\n",
       "      <td>52+3</td>\n",
       "      <td>52+3</td>\n",
       "      <td>52+3</td>\n",
       "      <td>62+3</td>\n",
       "    </tr>\n",
       "    <tr>\n",
       "      <th>1</th>\n",
       "      <td>20801</td>\n",
       "      <td>https://sofifa.com/player/20801/c-ronaldo-dos-...</td>\n",
       "      <td>Cristiano Ronaldo</td>\n",
       "      <td>Cristiano Ronaldo dos Santos Aveiro</td>\n",
       "      <td>35</td>\n",
       "      <td>1985-02-05</td>\n",
       "      <td>187</td>\n",
       "      <td>83</td>\n",
       "      <td>Portugal</td>\n",
       "      <td>Juventus</td>\n",
       "      <td>...</td>\n",
       "      <td>65+3</td>\n",
       "      <td>61+3</td>\n",
       "      <td>61+3</td>\n",
       "      <td>61+3</td>\n",
       "      <td>65+3</td>\n",
       "      <td>61+3</td>\n",
       "      <td>54+3</td>\n",
       "      <td>54+3</td>\n",
       "      <td>54+3</td>\n",
       "      <td>61+3</td>\n",
       "    </tr>\n",
       "    <tr>\n",
       "      <th>2</th>\n",
       "      <td>200389</td>\n",
       "      <td>https://sofifa.com/player/200389/jan-oblak/210002</td>\n",
       "      <td>J. Oblak</td>\n",
       "      <td>Jan Oblak</td>\n",
       "      <td>27</td>\n",
       "      <td>1993-01-07</td>\n",
       "      <td>188</td>\n",
       "      <td>87</td>\n",
       "      <td>Slovenia</td>\n",
       "      <td>Atlético Madrid</td>\n",
       "      <td>...</td>\n",
       "      <td>32+3</td>\n",
       "      <td>36+3</td>\n",
       "      <td>36+3</td>\n",
       "      <td>36+3</td>\n",
       "      <td>32+3</td>\n",
       "      <td>32+3</td>\n",
       "      <td>33+3</td>\n",
       "      <td>33+3</td>\n",
       "      <td>33+3</td>\n",
       "      <td>32+3</td>\n",
       "    </tr>\n",
       "    <tr>\n",
       "      <th>3</th>\n",
       "      <td>188545</td>\n",
       "      <td>https://sofifa.com/player/188545/robert-lewand...</td>\n",
       "      <td>R. Lewandowski</td>\n",
       "      <td>Robert Lewandowski</td>\n",
       "      <td>31</td>\n",
       "      <td>1988-08-21</td>\n",
       "      <td>184</td>\n",
       "      <td>80</td>\n",
       "      <td>Poland</td>\n",
       "      <td>FC Bayern München</td>\n",
       "      <td>...</td>\n",
       "      <td>64+3</td>\n",
       "      <td>65+3</td>\n",
       "      <td>65+3</td>\n",
       "      <td>65+3</td>\n",
       "      <td>64+3</td>\n",
       "      <td>61+3</td>\n",
       "      <td>60+3</td>\n",
       "      <td>60+3</td>\n",
       "      <td>60+3</td>\n",
       "      <td>61+3</td>\n",
       "    </tr>\n",
       "    <tr>\n",
       "      <th>4</th>\n",
       "      <td>190871</td>\n",
       "      <td>https://sofifa.com/player/190871/neymar-da-sil...</td>\n",
       "      <td>Neymar Jr</td>\n",
       "      <td>Neymar da Silva Santos Júnior</td>\n",
       "      <td>28</td>\n",
       "      <td>1992-02-05</td>\n",
       "      <td>175</td>\n",
       "      <td>68</td>\n",
       "      <td>Brazil</td>\n",
       "      <td>Paris Saint-Germain</td>\n",
       "      <td>...</td>\n",
       "      <td>67+3</td>\n",
       "      <td>62+3</td>\n",
       "      <td>62+3</td>\n",
       "      <td>62+3</td>\n",
       "      <td>67+3</td>\n",
       "      <td>62+3</td>\n",
       "      <td>49+3</td>\n",
       "      <td>49+3</td>\n",
       "      <td>49+3</td>\n",
       "      <td>62+3</td>\n",
       "    </tr>\n",
       "  </tbody>\n",
       "</table>\n",
       "<p>5 rows × 106 columns</p>\n",
       "</div>"
      ],
      "text/plain": [
       "   sofifa_id                                         player_url  \\\n",
       "0     158023  https://sofifa.com/player/158023/lionel-messi/...   \n",
       "1      20801  https://sofifa.com/player/20801/c-ronaldo-dos-...   \n",
       "2     200389  https://sofifa.com/player/200389/jan-oblak/210002   \n",
       "3     188545  https://sofifa.com/player/188545/robert-lewand...   \n",
       "4     190871  https://sofifa.com/player/190871/neymar-da-sil...   \n",
       "\n",
       "          short_name                            long_name  age         dob  \\\n",
       "0           L. Messi       Lionel Andrés Messi Cuccittini   33  1987-06-24   \n",
       "1  Cristiano Ronaldo  Cristiano Ronaldo dos Santos Aveiro   35  1985-02-05   \n",
       "2           J. Oblak                            Jan Oblak   27  1993-01-07   \n",
       "3     R. Lewandowski                   Robert Lewandowski   31  1988-08-21   \n",
       "4          Neymar Jr        Neymar da Silva Santos Júnior   28  1992-02-05   \n",
       "\n",
       "   height_cm  weight_kg nationality            club_name  ...   lwb   ldm  \\\n",
       "0        170         72   Argentina         FC Barcelona  ...  66+3  65+3   \n",
       "1        187         83    Portugal             Juventus  ...  65+3  61+3   \n",
       "2        188         87    Slovenia      Atlético Madrid  ...  32+3  36+3   \n",
       "3        184         80      Poland    FC Bayern München  ...  64+3  65+3   \n",
       "4        175         68      Brazil  Paris Saint-Germain  ...  67+3  62+3   \n",
       "\n",
       "    cdm   rdm   rwb    lb   lcb    cb   rcb    rb  \n",
       "0  65+3  65+3  66+3  62+3  52+3  52+3  52+3  62+3  \n",
       "1  61+3  61+3  65+3  61+3  54+3  54+3  54+3  61+3  \n",
       "2  36+3  36+3  32+3  32+3  33+3  33+3  33+3  32+3  \n",
       "3  65+3  65+3  64+3  61+3  60+3  60+3  60+3  61+3  \n",
       "4  62+3  62+3  67+3  62+3  49+3  49+3  49+3  62+3  \n",
       "\n",
       "[5 rows x 106 columns]"
      ]
     },
     "execution_count": 4,
     "metadata": {},
     "output_type": "execute_result"
    }
   ],
   "source": [
    "df.head()"
   ]
  },
  {
   "cell_type": "code",
   "execution_count": 5,
   "id": "da4ce8b0",
   "metadata": {},
   "outputs": [
    {
     "name": "stdout",
     "output_type": "stream",
     "text": [
      "Index(['sofifa_id', 'age', 'height_cm', 'weight_kg', 'league_rank', 'overall',\n",
      "       'potential', 'value_eur', 'wage_eur', 'international_reputation',\n",
      "       'weak_foot', 'skill_moves', 'release_clause_eur', 'team_jersey_number',\n",
      "       'contract_valid_until', 'nation_jersey_number', 'pace', 'shooting',\n",
      "       'passing', 'dribbling', 'defending', 'physic', 'gk_diving',\n",
      "       'gk_handling', 'gk_kicking', 'gk_reflexes', 'gk_speed',\n",
      "       'gk_positioning', 'attacking_crossing', 'attacking_finishing',\n",
      "       'attacking_heading_accuracy', 'attacking_short_passing',\n",
      "       'attacking_volleys', 'skill_dribbling', 'skill_curve',\n",
      "       'skill_fk_accuracy', 'skill_long_passing', 'skill_ball_control',\n",
      "       'movement_acceleration', 'movement_sprint_speed', 'movement_agility',\n",
      "       'movement_reactions', 'movement_balance', 'power_shot_power',\n",
      "       'power_jumping', 'power_stamina', 'power_strength', 'power_long_shots',\n",
      "       'mentality_aggression', 'mentality_interceptions',\n",
      "       'mentality_positioning', 'mentality_vision', 'mentality_penalties',\n",
      "       'mentality_composure', 'defending_marking', 'defending_standing_tackle',\n",
      "       'defending_sliding_tackle', 'goalkeeping_diving',\n",
      "       'goalkeeping_handling', 'goalkeeping_kicking',\n",
      "       'goalkeeping_positioning', 'goalkeeping_reflexes'],\n",
      "      dtype='object')\n"
     ]
    }
   ],
   "source": [
    "#find numeric and non-numeric columns\n",
    "\n",
    "numeric_cols = df.select_dtypes(include=['number']).columns\n",
    "print(numeric_cols)"
   ]
  },
  {
   "cell_type": "code",
   "execution_count": 6,
   "id": "59f45a06",
   "metadata": {},
   "outputs": [
    {
     "name": "stdout",
     "output_type": "stream",
     "text": [
      "Index(['sofifa_id', 'age', 'height_cm', 'weight_kg', 'league_rank', 'overall',\n",
      "       'potential', 'value_eur', 'wage_eur', 'international_reputation',\n",
      "       'weak_foot', 'skill_moves', 'release_clause_eur', 'team_jersey_number',\n",
      "       'contract_valid_until', 'nation_jersey_number', 'pace', 'shooting',\n",
      "       'passing', 'dribbling', 'defending', 'physic', 'gk_diving',\n",
      "       'gk_handling', 'gk_kicking', 'gk_reflexes', 'gk_speed',\n",
      "       'gk_positioning', 'attacking_crossing', 'attacking_finishing',\n",
      "       'attacking_heading_accuracy', 'attacking_short_passing',\n",
      "       'attacking_volleys', 'skill_dribbling', 'skill_curve',\n",
      "       'skill_fk_accuracy', 'skill_long_passing', 'skill_ball_control',\n",
      "       'movement_acceleration', 'movement_sprint_speed', 'movement_agility',\n",
      "       'movement_reactions', 'movement_balance', 'power_shot_power',\n",
      "       'power_jumping', 'power_stamina', 'power_strength', 'power_long_shots',\n",
      "       'mentality_aggression', 'mentality_interceptions',\n",
      "       'mentality_positioning', 'mentality_vision', 'mentality_penalties',\n",
      "       'mentality_composure', 'defending_marking', 'defending_standing_tackle',\n",
      "       'defending_sliding_tackle', 'goalkeeping_diving',\n",
      "       'goalkeeping_handling', 'goalkeeping_kicking',\n",
      "       'goalkeeping_positioning', 'goalkeeping_reflexes'],\n",
      "      dtype='object')\n"
     ]
    }
   ],
   "source": [
    "#finding non-numeric-values\n",
    "\n",
    "non_numeric_cols = df.select_dtypes(exclude=['number']).columns\n",
    "print(numeric_cols)"
   ]
  },
  {
   "cell_type": "markdown",
   "id": "9aeb1a8b",
   "metadata": {},
   "source": [
    "#finding Missing data"
   ]
  },
  {
   "cell_type": "code",
   "execution_count": 7,
   "id": "8a2fd6a8",
   "metadata": {},
   "outputs": [
    {
     "name": "stdout",
     "output_type": "stream",
     "text": [
      "<class 'pandas.core.frame.DataFrame'>\n",
      "RangeIndex: 18944 entries, 0 to 18943\n",
      "Data columns (total 44 columns):\n",
      " #   Column            Non-Null Count  Dtype \n",
      "---  ------            --------------  ----- \n",
      " 0   player_url        18944 non-null  object\n",
      " 1   short_name        18944 non-null  object\n",
      " 2   long_name         18944 non-null  object\n",
      " 3   dob               18944 non-null  object\n",
      " 4   nationality       18944 non-null  object\n",
      " 5   club_name         18719 non-null  object\n",
      " 6   league_name       18719 non-null  object\n",
      " 7   player_positions  18944 non-null  object\n",
      " 8   preferred_foot    18944 non-null  object\n",
      " 9   work_rate         18944 non-null  object\n",
      " 10  body_type         18944 non-null  object\n",
      " 11  real_face         18944 non-null  object\n",
      " 12  player_tags       1408 non-null   object\n",
      " 13  team_position     18719 non-null  object\n",
      " 14  loaned_from       758 non-null    object\n",
      " 15  joined            17961 non-null  object\n",
      " 16  nation_position   1127 non-null   object\n",
      " 17  player_traits     8315 non-null   object\n",
      " 18  ls                18944 non-null  object\n",
      " 19  st                18944 non-null  object\n",
      " 20  rs                18944 non-null  object\n",
      " 21  lw                18944 non-null  object\n",
      " 22  lf                18944 non-null  object\n",
      " 23  cf                18944 non-null  object\n",
      " 24  rf                18944 non-null  object\n",
      " 25  rw                18944 non-null  object\n",
      " 26  lam               18944 non-null  object\n",
      " 27  cam               18944 non-null  object\n",
      " 28  ram               18944 non-null  object\n",
      " 29  lm                18944 non-null  object\n",
      " 30  lcm               18944 non-null  object\n",
      " 31  cm                18944 non-null  object\n",
      " 32  rcm               18944 non-null  object\n",
      " 33  rm                18944 non-null  object\n",
      " 34  lwb               18944 non-null  object\n",
      " 35  ldm               18944 non-null  object\n",
      " 36  cdm               18944 non-null  object\n",
      " 37  rdm               18944 non-null  object\n",
      " 38  rwb               18944 non-null  object\n",
      " 39  lb                18944 non-null  object\n",
      " 40  lcb               18944 non-null  object\n",
      " 41  cb                18944 non-null  object\n",
      " 42  rcb               18944 non-null  object\n",
      " 43  rb                18944 non-null  object\n",
      "dtypes: object(44)\n",
      "memory usage: 6.4+ MB\n"
     ]
    }
   ],
   "source": [
    "df[non_numeric_cols].info()"
   ]
  },
  {
   "cell_type": "code",
   "execution_count": 8,
   "id": "8538bd2d",
   "metadata": {},
   "outputs": [
    {
     "data": {
      "text/plain": [
       "sofifa_id                     0\n",
       "player_url                    0\n",
       "short_name                    0\n",
       "long_name                     0\n",
       "age                           0\n",
       "dob                           0\n",
       "height_cm                     0\n",
       "weight_kg                     0\n",
       "nationality                   0\n",
       "club_name                   225\n",
       "league_name                 225\n",
       "league_rank                 225\n",
       "overall                       0\n",
       "potential                     0\n",
       "value_eur                     0\n",
       "wage_eur                      0\n",
       "player_positions              0\n",
       "preferred_foot                0\n",
       "international_reputation      0\n",
       "weak_foot                     0\n",
       "dtype: int64"
      ]
     },
     "execution_count": 8,
     "metadata": {},
     "output_type": "execute_result"
    }
   ],
   "source": [
    "#use isna().sum()\n",
    "num_missing = df.isna().sum()\n",
    "num_missing[:20]"
   ]
  },
  {
   "cell_type": "code",
   "execution_count": 9,
   "id": "06e7123e",
   "metadata": {},
   "outputs": [
    {
     "data": {
      "text/plain": [
       "sofifa_id                   0.000000\n",
       "player_url                  0.000000\n",
       "short_name                  0.000000\n",
       "long_name                   0.000000\n",
       "age                         0.000000\n",
       "dob                         0.000000\n",
       "height_cm                   0.000000\n",
       "weight_kg                   0.000000\n",
       "nationality                 0.000000\n",
       "club_name                   0.011877\n",
       "league_name                 0.011877\n",
       "league_rank                 0.011877\n",
       "overall                     0.000000\n",
       "potential                   0.000000\n",
       "value_eur                   0.000000\n",
       "wage_eur                    0.000000\n",
       "player_positions            0.000000\n",
       "preferred_foot              0.000000\n",
       "international_reputation    0.000000\n",
       "weak_foot                   0.000000\n",
       "dtype: float64"
      ]
     },
     "execution_count": 9,
     "metadata": {},
     "output_type": "execute_result"
    }
   ],
   "source": [
    "#find missing percentage\n",
    "\n",
    "pct_missing = df.isna().mean()\n",
    "pct_missing[:20]"
   ]
  },
  {
   "cell_type": "markdown",
   "id": "4be07460",
   "metadata": {},
   "source": [
    "Method #2: missing data (by columns) heatmap"
   ]
  },
  {
   "cell_type": "code",
   "execution_count": 11,
   "id": "80af8ff3",
   "metadata": {},
   "outputs": [
    {
     "ename": "SyntaxError",
     "evalue": "invalid syntax (1630924594.py, line 8)",
     "output_type": "error",
     "traceback": [
      "\u001b[1;36m  Cell \u001b[1;32mIn[11], line 8\u001b[1;36m\u001b[0m\n\u001b[1;33m    sns.heatmap(df.cols.isna(), cmap=sns.color_palette(colours)) >\u001b[0m\n\u001b[1;37m                                                                  ^\u001b[0m\n\u001b[1;31mSyntaxError\u001b[0m\u001b[1;31m:\u001b[0m invalid syntax\n"
     ]
    }
   ],
   "source": [
    "import seaborn as sns\n",
    "import matplotlib.pyplot as plt\n",
    "\n",
    "plt.figure(figsize=(10,8))\n",
    "\n",
    "cols = df.columns[:30]\n",
    "colours = ['#000099', '#ffff00'] # specify colours: yellow - missing. blue - not missing\n",
    "sns.heatmap(df.cols.isna(), cmap=sns.color_palette(colours)) >"
   ]
  },
  {
   "cell_type": "code",
   "execution_count": 12,
   "id": "37a3d3f6",
   "metadata": {},
   "outputs": [
    {
     "data": {
      "image/png": "[encoded data removed]",
      "text/plain": [
       "<Figure size 1000x800 with 2 Axes>"
      ]
     },
     "metadata": {},
     "output_type": "display_data"
    }
   ],
   "source": [
    "import seaborn as sns\n",
    "import matplotlib.pyplot as plt\n",
    "\n",
    "plt.figure(figsize=(10, 8))\n",
    "\n",
    "cols = df.columns[:30]\n",
    "colours = ['#000099', '#ffff00']  # specify colours: yellow - missing, blue - not missing\n",
    "sns.heatmap(df[cols].isna(), cmap=sns.color_palette(colours))\n",
    "\n",
    "plt.show()"
   ]
  },
  {
   "cell_type": "markdown",
   "id": "5dd446bd",
   "metadata": {},
   "source": [
    "Method #3: missing data (by rows) histogram"
   ]
  },
  {
   "cell_type": "code",
   "execution_count": 13,
   "id": "50abf8c5",
   "metadata": {},
   "outputs": [
    {
     "data": {
      "text/plain": [
       "<Axes: >"
      ]
     },
     "execution_count": 13,
     "metadata": {},
     "output_type": "execute_result"
    },
    {
     "data": {
      "image/png": "[encoded data removed]",
      "text/plain": [
       "<Figure size 640x480 with 1 Axes>"
      ]
     },
     "metadata": {},
     "output_type": "display_data"
    }
   ],
   "source": [
    "missing_by_row = df.isna().sum(axis='columns')\n",
    "missing_by_row.hist(bins=50)"
   ]
  },
  {
   "cell_type": "markdown",
   "id": "0c06f3ba",
   "metadata": {},
   "source": [
    " What are the columns with over 30% missing data?"
   ]
  },
  {
   "cell_type": "code",
   "execution_count": 14,
   "id": "65314458",
   "metadata": {},
   "outputs": [
    {
     "data": {
      "text/plain": [
       "player_tags             0.925676\n",
       "loaned_from             0.959987\n",
       "nation_position         0.940509\n",
       "nation_jersey_number    0.940509\n",
       "gk_diving               0.890044\n",
       "gk_handling             0.890044\n",
       "gk_kicking              0.890044\n",
       "gk_reflexes             0.890044\n",
       "gk_speed                0.890044\n",
       "gk_positioning          0.890044\n",
       "player_traits           0.561075\n",
       "defending_marking       1.000000\n",
       "dtype: float64"
      ]
     },
     "execution_count": 14,
     "metadata": {},
     "output_type": "execute_result"
    }
   ],
   "source": [
    "pct_missing[pct_missing > .3]"
   ]
  },
  {
   "cell_type": "code",
   "execution_count": 20,
   "id": "f0b8c39f",
   "metadata": {},
   "outputs": [
    {
     "data": {
      "text/plain": [
       "(18944, 94)"
      ]
     },
     "execution_count": 20,
     "metadata": {},
     "output_type": "execute_result"
    }
   ],
   "source": [
    "df_less_missing_cols =  df.drop(columns=pct_missing[pct_missing > .3].index)\n",
    "df_less_missing_cols.shape"
   ]
  },
  {
   "cell_type": "code",
   "execution_count": 15,
   "id": "5b7d0096",
   "metadata": {},
   "outputs": [
    {
     "data": {
      "text/plain": [
       "(18944, 94)"
      ]
     },
     "execution_count": 15,
     "metadata": {},
     "output_type": "execute_result"
    }
   ],
   "source": [
    "df_less_missing_cols = df.loc[:, pct_missing <= .3].copy() # equivalent to df.drop(columns=pct_missing[pct_missing > .3].index)\n",
    "df_less_missing_cols.shape"
   ]
  },
  {
   "cell_type": "markdown",
   "id": "2468db77",
   "metadata": {},
   "source": [
    "Technique #2: drop rows / observations"
   ]
  },
  {
   "cell_type": "code",
   "execution_count": 16,
   "id": "34f3fa6d",
   "metadata": {},
   "outputs": [
    {
     "data": {
      "text/plain": [
       "(18944, 106)"
      ]
     },
     "execution_count": 16,
     "metadata": {},
     "output_type": "execute_result"
    }
   ],
   "source": [
    "df_less_missing_rows = df[missing_by_row < 35].copy()\n",
    "df_less_missing_rows.shape "
   ]
  },
  {
   "cell_type": "markdown",
   "id": "f19b7c15",
   "metadata": {},
   "source": [
    "Technique #3: impute the missing with constant values"
   ]
  },
  {
   "cell_type": "code",
   "execution_count": 21,
   "id": "ee42b62e",
   "metadata": {},
   "outputs": [],
   "source": [
    "df_copy = df.copy()\n",
    "df_copy[numeric_cols] = df_copy[numeric_cols].fillna(-999)\n",
    "df_copy[non_numeric_cols] = df_copy[non_numeric_cols].fillna('_MISSING_')"
   ]
  },
  {
   "cell_type": "markdown",
   "id": "5ac3638c",
   "metadata": {},
   "source": [
    "Technique #4: impute the missing with statistics"
   ]
  },
  {
   "cell_type": "code",
   "execution_count": 23,
   "id": "8920491d",
   "metadata": {},
   "outputs": [],
   "source": [
    "df_copy = df.copy()\n",
    "med = df_copy[numeric_cols].median()\n",
    "df_copy[numeric_cols] = df_copy[numeric_cols].fillna(med)"
   ]
  },
  {
   "cell_type": "markdown",
   "id": "66e2dbf8",
   "metadata": {},
   "source": [
    "We can also impute the non-numeric columns with their most frequent values."
   ]
  },
  {
   "cell_type": "markdown",
   "id": "44c6216e",
   "metadata": {},
   "source": [
    "most_freq = df_copy[non_numeric_cols].describe().loc['top']\n",
    "most_freq"
   ]
  },
  {
   "cell_type": "code",
   "execution_count": 25,
   "id": "2dc4f5ee",
   "metadata": {},
   "outputs": [
    {
     "data": {
      "text/plain": [
       "player_url          https://sofifa.com/player/158023/lionel-messi/...\n",
       "short_name                                               J. Rodríguez\n",
       "long_name                                                  Liam Kelly\n",
       "dob                                                        1992-02-29\n",
       "nationality                                                   England\n",
       "club_name                                                FC Barcelona\n",
       "league_name                               English League Championship\n",
       "player_positions                                                   CB\n",
       "preferred_foot                                                  Right\n",
       "work_rate                                               Medium/Medium\n",
       "body_type                                                      Normal\n",
       "real_face                                                          No\n",
       "player_tags                                                 #Strength\n",
       "team_position                                                     SUB\n",
       "loaned_from                                                   Chelsea\n",
       "joined                                                     2019-07-01\n",
       "nation_position                                                   SUB\n",
       "player_traits                                     Speed Dribbler (AI)\n",
       "ls                                                               61+2\n",
       "st                                                               61+2\n",
       "rs                                                               61+2\n",
       "lw                                                               64+0\n",
       "lf                                                               62+0\n",
       "cf                                                               62+0\n",
       "rf                                                               62+0\n",
       "rw                                                               64+0\n",
       "lam                                                              62+2\n",
       "cam                                                              62+2\n",
       "ram                                                              62+2\n",
       "lm                                                               61+2\n",
       "lcm                                                              61+2\n",
       "cm                                                               61+2\n",
       "rcm                                                              61+2\n",
       "rm                                                               61+2\n",
       "lwb                                                              59+2\n",
       "ldm                                                              61+2\n",
       "cdm                                                              61+2\n",
       "rdm                                                              61+2\n",
       "rwb                                                              59+2\n",
       "lb                                                               60+2\n",
       "lcb                                                              61+2\n",
       "cb                                                               61+2\n",
       "rcb                                                              61+2\n",
       "rb                                                               60+2\n",
       "Name: top, dtype: object"
      ]
     },
     "execution_count": 25,
     "metadata": {},
     "output_type": "execute_result"
    }
   ],
   "source": [
    "most_freq = df_copy[non_numeric_cols].describe().loc['top'] \n",
    "most_freq"
   ]
  },
  {
   "cell_type": "markdown",
   "id": "fb4a8331",
   "metadata": {},
   "source": [
    "Then we can use it to fill in the missing."
   ]
  },
  {
   "cell_type": "code",
   "execution_count": 26,
   "id": "214bbd40",
   "metadata": {},
   "outputs": [],
   "source": [
    "df_copy[non_numeric_cols] = df_copy[non_numeric_cols].fillna(most_freq)"
   ]
  },
  {
   "cell_type": "markdown",
   "id": "4b5d947d",
   "metadata": {},
   "source": [
    "Irregular data (outliers)"
   ]
  },
  {
   "cell_type": "code",
   "execution_count": 28,
   "id": "4e639558",
   "metadata": {},
   "outputs": [
    {
     "data": {
      "text/plain": [
       "sofifa_id                    6.164631\n",
       "age                         -0.415689\n",
       "height_cm                   -0.345059\n",
       "weight_kg                    0.076536\n",
       "league_rank                  3.901022\n",
       "overall                     -0.002538\n",
       "potential                    0.092657\n",
       "value_eur                   68.855929\n",
       "wage_eur                    96.591958\n",
       "international_reputation    24.559540\n",
       "weak_foot                    0.601850\n",
       "skill_moves                 -0.067779\n",
       "release_clause_eur          65.631670\n",
       "team_jersey_number           5.806810\n",
       "contract_valid_until        -0.529196\n",
       "nation_jersey_number        -1.185122\n",
       "pace                         0.650155\n",
       "shooting                    -0.773094\n",
       "passing                     -0.135628\n",
       "dribbling                    0.366572\n",
       "defending                   -1.043307\n",
       "physic                      -0.156288\n",
       "gk_diving                   -0.109797\n",
       "gk_handling                  0.074800\n",
       "gk_kicking                   0.402699\n",
       "gk_reflexes                 -0.182043\n",
       "gk_speed                    -0.844867\n",
       "gk_positioning              -0.203721\n",
       "attacking_crossing          -0.472416\n",
       "attacking_finishing         -0.902140\n",
       "dtype: float64"
      ]
     },
     "execution_count": 28,
     "metadata": {},
     "output_type": "execute_result"
    }
   ],
   "source": [
    "df.kurt(numeric_only=True)[:30]"
   ]
  },
  {
   "cell_type": "code",
   "execution_count": 29,
   "id": "3b0e5f1a",
   "metadata": {},
   "outputs": [
    {
     "data": {
      "text/plain": [
       "count     18944.000000\n",
       "mean       8675.852513\n",
       "std       19654.774894\n",
       "min           0.000000\n",
       "25%        1000.000000\n",
       "50%        3000.000000\n",
       "75%        7000.000000\n",
       "max      560000.000000\n",
       "Name: wage_eur, dtype: float64"
      ]
     },
     "execution_count": 29,
     "metadata": {},
     "output_type": "execute_result"
    }
   ],
   "source": [
    "df['wage_eur'].describe()"
   ]
  },
  {
   "cell_type": "code",
   "execution_count": 30,
   "id": "20dcb1e7",
   "metadata": {},
   "outputs": [
    {
     "data": {
      "text/plain": [
       "count    1.894400e+04\n",
       "mean     2.224813e+06\n",
       "std      5.102486e+06\n",
       "min      0.000000e+00\n",
       "25%      3.000000e+05\n",
       "50%      6.500000e+05\n",
       "75%      1.800000e+06\n",
       "max      1.055000e+08\n",
       "Name: value_eur, dtype: float64"
      ]
     },
     "execution_count": 30,
     "metadata": {},
     "output_type": "execute_result"
    }
   ],
   "source": [
    "df['value_eur'].describe()"
   ]
  },
  {
   "cell_type": "markdown",
   "id": "0b5c9297",
   "metadata": {},
   "source": [
    "kurt value of wage_eur  is higher, lets dig deeper for that varibale"
   ]
  },
  {
   "cell_type": "markdown",
   "id": "b68dfd74",
   "metadata": {},
   "source": [
    "Method #2: histogram & box plot"
   ]
  },
  {
   "cell_type": "code",
   "execution_count": 31,
   "id": "85a82aab",
   "metadata": {},
   "outputs": [
    {
     "data": {
      "text/plain": [
       "<Axes: >"
      ]
     },
     "execution_count": 31,
     "metadata": {},
     "output_type": "execute_result"
    },
    {
     "data": {
      "image/png": "[encoded data removed]",
      "text/plain": [
       "<Figure size 640x480 with 1 Axes>"
      ]
     },
     "metadata": {},
     "output_type": "display_data"
    }
   ],
   "source": [
    "df['wage_eur'].hist(bins = 100)"
   ]
  },
  {
   "cell_type": "code",
   "execution_count": 32,
   "id": "80cb5737",
   "metadata": {},
   "outputs": [
    {
     "data": {
      "text/plain": [
       "<Axes: >"
      ]
     },
     "execution_count": 32,
     "metadata": {},
     "output_type": "execute_result"
    },
    {
     "data": {
      "image/png": "[encoded data removed]",
      "text/plain": [
       "<Figure size 640x480 with 1 Axes>"
      ]
     },
     "metadata": {},
     "output_type": "display_data"
    }
   ],
   "source": [
    "df.boxplot(column=['wage_eur'])"
   ]
  },
  {
   "cell_type": "markdown",
   "id": "d2426e2e",
   "metadata": {},
   "source": [
    "#we could see that there is a value above 500000,which could be an outlier"
   ]
  },
  {
   "cell_type": "markdown",
   "id": "ba85aa15",
   "metadata": {},
   "source": [
    "Method #3: bar chart"
   ]
  },
  {
   "cell_type": "markdown",
   "id": "8ef3feab",
   "metadata": {},
   "source": [
    "for non numeric columns "
   ]
  },
  {
   "cell_type": "code",
   "execution_count": 35,
   "id": "71c631fc",
   "metadata": {},
   "outputs": [
    {
     "data": {
      "text/plain": [
       "<Axes: >"
      ]
     },
     "execution_count": 35,
     "metadata": {},
     "output_type": "execute_result"
    },
    {
     "data": {
      "image/png": "[encoded data removed]",
      "text/plain": [
       "<Figure size 640x480 with 1 Axes>"
      ]
     },
     "metadata": {},
     "output_type": "display_data"
    }
   ],
   "source": [
    "df['skill_dribbling'].value_counts().plot(kind='bar')"
   ]
  },
  {
   "cell_type": "markdown",
   "id": "58098715",
   "metadata": {},
   "source": [
    "Unnecessary data\n",
    "Unnecessary type #1: repetitive & uninformative"
   ]
  },
  {
   "cell_type": "markdown",
   "id": "d55d681c",
   "metadata": {},
   "source": [
    "We can generate a list of columns with a high percentage of the same value. For example, we specify below to show columns with over 99.9% rows being the same value."
   ]
  },
  {
   "cell_type": "code",
   "execution_count": 55,
   "id": "a9390783",
   "metadata": {},
   "outputs": [
    {
     "name": "stdout",
     "output_type": "stream",
     "text": [
      "65    765\n",
      "64    760\n",
      "62    693\n",
      "63    692\n",
      "66    642\n",
      "     ... \n",
      "92      6\n",
      "91      3\n",
      "93      1\n",
      "95      1\n",
      "96      1\n",
      "Name: skill_dribbling, Length: 91, dtype: int64\n"
     ]
    }
   ],
   "source": [
    "do = df['skill_dribbling'].value_counts()\n",
    "print(do)"
   ]
  },
  {
   "cell_type": "code",
   "execution_count": 36,
   "id": "7fdb8d18",
   "metadata": {},
   "outputs": [
    {
     "name": "stdout",
     "output_type": "stream",
     "text": [
      "defending_marking: 100.00%\n",
      "NaN    18944\n",
      "Name: defending_marking, dtype: int64\n",
      "\n"
     ]
    }
   ],
   "source": [
    "num_rows = len(df)\n",
    "\n",
    "for col in df.columns:\n",
    "    cnts = df[col].value_counts(dropna=False)\n",
    "    top_pct = (cnts/num_rows).iloc[0]\n",
    "    \n",
    "    if top_pct > 0.999:\n",
    "        print('{0}: {1:.2f}%'.format(col, top_pct*100))\n",
    "        print(cnts)\n",
    "        print()"
   ]
  },
  {
   "cell_type": "code",
   "execution_count": 58,
   "id": "f8c53d3a",
   "metadata": {},
   "outputs": [
    {
     "data": {
      "text/plain": [
       "Series([], Name: defending_marking, dtype: int64)"
      ]
     },
     "execution_count": 58,
     "metadata": {},
     "output_type": "execute_result"
    }
   ],
   "source": [
    " df['defending_marking'].value_counts()"
   ]
  },
  {
   "cell_type": "code",
   "execution_count": 57,
   "id": "6af7bea4",
   "metadata": {},
   "outputs": [
    {
     "name": "stdout",
     "output_type": "stream",
     "text": [
      "[nan]\n"
     ]
    }
   ],
   "source": [
    "distinct_values = df['defending_marking'].unique()\n",
    "print(distinct_values)"
   ]
  },
  {
   "cell_type": "code",
   "execution_count": 51,
   "id": "e0be787f",
   "metadata": {},
   "outputs": [
    {
     "data": {
      "text/plain": [
       "0       NaN\n",
       "1       NaN\n",
       "2       NaN\n",
       "3       NaN\n",
       "4       NaN\n",
       "         ..\n",
       "18939   NaN\n",
       "18940   NaN\n",
       "18941   NaN\n",
       "18942   NaN\n",
       "18943   NaN\n",
       "Name: defending_marking, Length: 18944, dtype: float64"
      ]
     },
     "execution_count": 51,
     "metadata": {},
     "output_type": "execute_result"
    }
   ],
   "source": [
    "df['defending_marking']"
   ]
  },
  {
   "cell_type": "markdown",
   "id": "b091ff1b",
   "metadata": {},
   "source": [
    "Unnecessary type #3: duplicates"
   ]
  },
  {
   "cell_type": "code",
   "execution_count": 59,
   "id": "719b76f8",
   "metadata": {},
   "outputs": [
    {
     "data": {
      "text/html": [
       "<div>\n",
       "<style scoped>\n",
       "    .dataframe tbody tr th:only-of-type {\n",
       "        vertical-align: middle;\n",
       "    }\n",
       "\n",
       "    .dataframe tbody tr th {\n",
       "        vertical-align: top;\n",
       "    }\n",
       "\n",
       "    .dataframe thead th {\n",
       "        text-align: right;\n",
       "    }\n",
       "</style>\n",
       "<table border=\"1\" class=\"dataframe\">\n",
       "  <thead>\n",
       "    <tr style=\"text-align: right;\">\n",
       "      <th></th>\n",
       "      <th>sofifa_id</th>\n",
       "      <th>player_url</th>\n",
       "      <th>short_name</th>\n",
       "      <th>long_name</th>\n",
       "      <th>age</th>\n",
       "      <th>dob</th>\n",
       "      <th>height_cm</th>\n",
       "      <th>weight_kg</th>\n",
       "      <th>nationality</th>\n",
       "      <th>club_name</th>\n",
       "      <th>...</th>\n",
       "      <th>lwb</th>\n",
       "      <th>ldm</th>\n",
       "      <th>cdm</th>\n",
       "      <th>rdm</th>\n",
       "      <th>rwb</th>\n",
       "      <th>lb</th>\n",
       "      <th>lcb</th>\n",
       "      <th>cb</th>\n",
       "      <th>rcb</th>\n",
       "      <th>rb</th>\n",
       "    </tr>\n",
       "  </thead>\n",
       "  <tbody>\n",
       "  </tbody>\n",
       "</table>\n",
       "<p>0 rows × 106 columns</p>\n",
       "</div>"
      ],
      "text/plain": [
       "Empty DataFrame\n",
       "Columns: [sofifa_id, player_url, short_name, long_name, age, dob, height_cm, weight_kg, nationality, club_name, league_name, league_rank, overall, potential, value_eur, wage_eur, player_positions, preferred_foot, international_reputation, weak_foot, skill_moves, work_rate, body_type, real_face, release_clause_eur, player_tags, team_position, team_jersey_number, loaned_from, joined, contract_valid_until, nation_position, nation_jersey_number, pace, shooting, passing, dribbling, defending, physic, gk_diving, gk_handling, gk_kicking, gk_reflexes, gk_speed, gk_positioning, player_traits, attacking_crossing, attacking_finishing, attacking_heading_accuracy, attacking_short_passing, attacking_volleys, skill_dribbling, skill_curve, skill_fk_accuracy, skill_long_passing, skill_ball_control, movement_acceleration, movement_sprint_speed, movement_agility, movement_reactions, movement_balance, power_shot_power, power_jumping, power_stamina, power_strength, power_long_shots, mentality_aggression, mentality_interceptions, mentality_positioning, mentality_vision, mentality_penalties, mentality_composure, defending_marking, defending_standing_tackle, defending_sliding_tackle, goalkeeping_diving, goalkeeping_handling, goalkeeping_kicking, goalkeeping_positioning, goalkeeping_reflexes, ls, st, rs, lw, lf, cf, rf, rw, lam, cam, ram, lm, lcm, cm, rcm, rm, lwb, ldm, cdm, rdm, ...]\n",
       "Index: []\n",
       "\n",
       "[0 rows x 106 columns]"
      ]
     },
     "execution_count": 59,
     "metadata": {},
     "output_type": "execute_result"
    }
   ],
   "source": [
    "df[df.duplicated()]"
   ]
  },
  {
   "cell_type": "code",
   "execution_count": 60,
   "id": "6e39000a",
   "metadata": {},
   "outputs": [
    {
     "data": {
      "text/plain": [
       "Index(['sofifa_id', 'player_url', 'short_name', 'long_name', 'age', 'dob',\n",
       "       'height_cm', 'weight_kg', 'nationality', 'club_name',\n",
       "       ...\n",
       "       'lwb', 'ldm', 'cdm', 'rdm', 'rwb', 'lb', 'lcb', 'cb', 'rcb', 'rb'],\n",
       "      dtype='object', length=106)"
      ]
     },
     "execution_count": 60,
     "metadata": {},
     "output_type": "execute_result"
    }
   ],
   "source": [
    "df.columns"
   ]
  },
  {
   "cell_type": "markdown",
   "id": "fe9ee587",
   "metadata": {},
   "source": [
    "#we first delet id column and lets see how many duplicate rows are there"
   ]
  },
  {
   "cell_type": "code",
   "execution_count": 61,
   "id": "7a48ace5",
   "metadata": {},
   "outputs": [
    {
     "data": {
      "text/html": [
       "<div>\n",
       "<style scoped>\n",
       "    .dataframe tbody tr th:only-of-type {\n",
       "        vertical-align: middle;\n",
       "    }\n",
       "\n",
       "    .dataframe tbody tr th {\n",
       "        vertical-align: top;\n",
       "    }\n",
       "\n",
       "    .dataframe thead th {\n",
       "        text-align: right;\n",
       "    }\n",
       "</style>\n",
       "<table border=\"1\" class=\"dataframe\">\n",
       "  <thead>\n",
       "    <tr style=\"text-align: right;\">\n",
       "      <th></th>\n",
       "      <th>sofifa_id</th>\n",
       "      <th>player_url</th>\n",
       "      <th>short_name</th>\n",
       "      <th>long_name</th>\n",
       "      <th>age</th>\n",
       "      <th>dob</th>\n",
       "      <th>height_cm</th>\n",
       "      <th>weight_kg</th>\n",
       "      <th>nationality</th>\n",
       "      <th>club_name</th>\n",
       "      <th>...</th>\n",
       "      <th>lwb</th>\n",
       "      <th>ldm</th>\n",
       "      <th>cdm</th>\n",
       "      <th>rdm</th>\n",
       "      <th>rwb</th>\n",
       "      <th>lb</th>\n",
       "      <th>lcb</th>\n",
       "      <th>cb</th>\n",
       "      <th>rcb</th>\n",
       "      <th>rb</th>\n",
       "    </tr>\n",
       "  </thead>\n",
       "  <tbody>\n",
       "  </tbody>\n",
       "</table>\n",
       "<p>0 rows × 106 columns</p>\n",
       "</div>"
      ],
      "text/plain": [
       "Empty DataFrame\n",
       "Columns: [sofifa_id, player_url, short_name, long_name, age, dob, height_cm, weight_kg, nationality, club_name, league_name, league_rank, overall, potential, value_eur, wage_eur, player_positions, preferred_foot, international_reputation, weak_foot, skill_moves, work_rate, body_type, real_face, release_clause_eur, player_tags, team_position, team_jersey_number, loaned_from, joined, contract_valid_until, nation_position, nation_jersey_number, pace, shooting, passing, dribbling, defending, physic, gk_diving, gk_handling, gk_kicking, gk_reflexes, gk_speed, gk_positioning, player_traits, attacking_crossing, attacking_finishing, attacking_heading_accuracy, attacking_short_passing, attacking_volleys, skill_dribbling, skill_curve, skill_fk_accuracy, skill_long_passing, skill_ball_control, movement_acceleration, movement_sprint_speed, movement_agility, movement_reactions, movement_balance, power_shot_power, power_jumping, power_stamina, power_strength, power_long_shots, mentality_aggression, mentality_interceptions, mentality_positioning, mentality_vision, mentality_penalties, mentality_composure, defending_marking, defending_standing_tackle, defending_sliding_tackle, goalkeeping_diving, goalkeeping_handling, goalkeeping_kicking, goalkeeping_positioning, goalkeeping_reflexes, ls, st, rs, lw, lf, cf, rf, rw, lam, cam, ram, lm, lcm, cm, rcm, rm, lwb, ldm, cdm, rdm, ...]\n",
       "Index: []\n",
       "\n",
       "[0 rows x 106 columns]"
      ]
     },
     "execution_count": 61,
     "metadata": {},
     "output_type": "execute_result"
    }
   ],
   "source": [
    "df[df.drop(columns=['sofifa_id']).duplicated()]"
   ]
  },
  {
   "cell_type": "code",
   "execution_count": 62,
   "id": "97063853",
   "metadata": {},
   "outputs": [
    {
     "name": "stdout",
     "output_type": "stream",
     "text": [
      "(18944, 106)\n",
      "(18944, 105)\n"
     ]
    }
   ],
   "source": [
    "df_dedupped = df.drop(columns=['sofifa_id']).drop_duplicates()\n",
    "\n",
    "print(df.shape)\n",
    "print(df_dedupped.shape)"
   ]
  },
  {
   "cell_type": "markdown",
   "id": "646a8731",
   "metadata": {},
   "source": [
    "Inconsistent data"
   ]
  },
  {
   "cell_type": "code",
   "execution_count": 64,
   "id": "c27300f6",
   "metadata": {},
   "outputs": [
    {
     "data": {
      "text/plain": [
       "England             1685\n",
       "Germany             1189\n",
       "Spain               1072\n",
       "France               984\n",
       "Argentina            936\n",
       "                    ... \n",
       "Saint Lucia            1\n",
       "Papua New Guinea       1\n",
       "Aruba                  1\n",
       "Chad                   1\n",
       "Nicaragua              1\n",
       "Name: nationality, Length: 162, dtype: int64"
      ]
     },
     "execution_count": 64,
     "metadata": {},
     "output_type": "execute_result"
    }
   ],
   "source": [
    "df['nationality'].value_counts()"
   ]
  },
  {
   "cell_type": "markdown",
   "id": "870bf845",
   "metadata": {},
   "source": [
    "We are lucky that the text in this column looks standardized. But there could be inconsistent capitalizations"
   ]
  },
  {
   "cell_type": "markdown",
   "id": "9dc8cd66",
   "metadata": {},
   "source": [
    "To avoid this, we can lowercase (or uppercase) all letters."
   ]
  },
  {
   "cell_type": "code",
   "execution_count": 66,
   "id": "ff5db492",
   "metadata": {},
   "outputs": [
    {
     "data": {
      "text/plain": [
       "england             1685\n",
       "germany             1189\n",
       "spain               1072\n",
       "france               984\n",
       "argentina            936\n",
       "                    ... \n",
       "saint lucia            1\n",
       "papua new guinea       1\n",
       "aruba                  1\n",
       "chad                   1\n",
       "nicaragua              1\n",
       "Name: nationality, Length: 162, dtype: int64"
      ]
     },
     "execution_count": 66,
     "metadata": {},
     "output_type": "execute_result"
    }
   ],
   "source": [
    "df['nationality'] = df['nationality'].str.lower()\n",
    "df['nationality'].value_counts(dropna=False)"
   ]
  },
  {
   "cell_type": "markdown",
   "id": "1d999775",
   "metadata": {},
   "source": [
    "Inconsistent type #2: data types"
   ]
  },
  {
   "cell_type": "code",
   "execution_count": 68,
   "id": "149febb5",
   "metadata": {},
   "outputs": [
    {
     "data": {
      "text/plain": [
       "Index(['sofifa_id', 'player_url', 'short_name', 'long_name', 'age', 'dob',\n",
       "       'height_cm', 'weight_kg', 'nationality', 'club_name', 'league_name',\n",
       "       'league_rank', 'overall', 'potential', 'value_eur', 'wage_eur',\n",
       "       'player_positions', 'preferred_foot', 'international_reputation',\n",
       "       'weak_foot', 'skill_moves', 'work_rate', 'body_type', 'real_face',\n",
       "       'release_clause_eur', 'player_tags', 'team_position',\n",
       "       'team_jersey_number', 'loaned_from', 'joined', 'contract_valid_until',\n",
       "       'nation_position', 'nation_jersey_number', 'pace', 'shooting'],\n",
       "      dtype='object')"
      ]
     },
     "execution_count": 68,
     "metadata": {},
     "output_type": "execute_result"
    }
   ],
   "source": [
    "df.columns[:35]"
   ]
  },
  {
   "cell_type": "code",
   "execution_count": 69,
   "id": "3f1c19fd",
   "metadata": {},
   "outputs": [
    {
     "ename": "KeyError",
     "evalue": "'timestamp'",
     "output_type": "error",
     "traceback": [
      "\u001b[1;31m---------------------------------------------------------------------------\u001b[0m",
      "\u001b[1;31mKeyError\u001b[0m                                  Traceback (most recent call last)",
      "File \u001b[1;32m~\\anaconda3\\lib\\site-packages\\pandas\\core\\indexes\\base.py:3802\u001b[0m, in \u001b[0;36mIndex.get_loc\u001b[1;34m(self, key, method, tolerance)\u001b[0m\n\u001b[0;32m   3801\u001b[0m \u001b[38;5;28;01mtry\u001b[39;00m:\n\u001b[1;32m-> 3802\u001b[0m     \u001b[38;5;28;01mreturn\u001b[39;00m \u001b[38;5;28;43mself\u001b[39;49m\u001b[38;5;241;43m.\u001b[39;49m\u001b[43m_engine\u001b[49m\u001b[38;5;241;43m.\u001b[39;49m\u001b[43mget_loc\u001b[49m\u001b[43m(\u001b[49m\u001b[43mcasted_key\u001b[49m\u001b[43m)\u001b[49m\n\u001b[0;32m   3803\u001b[0m \u001b[38;5;28;01mexcept\u001b[39;00m \u001b[38;5;167;01mKeyError\u001b[39;00m \u001b[38;5;28;01mas\u001b[39;00m err:\n",
      "File \u001b[1;32m~\\anaconda3\\lib\\site-packages\\pandas\\_libs\\index.pyx:138\u001b[0m, in \u001b[0;36mpandas._libs.index.IndexEngine.get_loc\u001b[1;34m()\u001b[0m\n",
      "File \u001b[1;32m~\\anaconda3\\lib\\site-packages\\pandas\\_libs\\index.pyx:165\u001b[0m, in \u001b[0;36mpandas._libs.index.IndexEngine.get_loc\u001b[1;34m()\u001b[0m\n",
      "File \u001b[1;32mpandas\\_libs\\hashtable_class_helper.pxi:5745\u001b[0m, in \u001b[0;36mpandas._libs.hashtable.PyObjectHashTable.get_item\u001b[1;34m()\u001b[0m\n",
      "File \u001b[1;32mpandas\\_libs\\hashtable_class_helper.pxi:5753\u001b[0m, in \u001b[0;36mpandas._libs.hashtable.PyObjectHashTable.get_item\u001b[1;34m()\u001b[0m\n",
      "\u001b[1;31mKeyError\u001b[0m: 'timestamp'",
      "\nThe above exception was the direct cause of the following exception:\n",
      "\u001b[1;31mKeyError\u001b[0m                                  Traceback (most recent call last)",
      "Cell \u001b[1;32mIn[69], line 1\u001b[0m\n\u001b[1;32m----> 1\u001b[0m \u001b[43mdf\u001b[49m\u001b[43m[\u001b[49m\u001b[38;5;124;43m'\u001b[39;49m\u001b[38;5;124;43mtimestamp\u001b[39;49m\u001b[38;5;124;43m'\u001b[39;49m\u001b[43m]\u001b[49m\n",
      "File \u001b[1;32m~\\anaconda3\\lib\\site-packages\\pandas\\core\\frame.py:3807\u001b[0m, in \u001b[0;36mDataFrame.__getitem__\u001b[1;34m(self, key)\u001b[0m\n\u001b[0;32m   3805\u001b[0m \u001b[38;5;28;01mif\u001b[39;00m \u001b[38;5;28mself\u001b[39m\u001b[38;5;241m.\u001b[39mcolumns\u001b[38;5;241m.\u001b[39mnlevels \u001b[38;5;241m>\u001b[39m \u001b[38;5;241m1\u001b[39m:\n\u001b[0;32m   3806\u001b[0m     \u001b[38;5;28;01mreturn\u001b[39;00m \u001b[38;5;28mself\u001b[39m\u001b[38;5;241m.\u001b[39m_getitem_multilevel(key)\n\u001b[1;32m-> 3807\u001b[0m indexer \u001b[38;5;241m=\u001b[39m \u001b[38;5;28;43mself\u001b[39;49m\u001b[38;5;241;43m.\u001b[39;49m\u001b[43mcolumns\u001b[49m\u001b[38;5;241;43m.\u001b[39;49m\u001b[43mget_loc\u001b[49m\u001b[43m(\u001b[49m\u001b[43mkey\u001b[49m\u001b[43m)\u001b[49m\n\u001b[0;32m   3808\u001b[0m \u001b[38;5;28;01mif\u001b[39;00m is_integer(indexer):\n\u001b[0;32m   3809\u001b[0m     indexer \u001b[38;5;241m=\u001b[39m [indexer]\n",
      "File \u001b[1;32m~\\anaconda3\\lib\\site-packages\\pandas\\core\\indexes\\base.py:3804\u001b[0m, in \u001b[0;36mIndex.get_loc\u001b[1;34m(self, key, method, tolerance)\u001b[0m\n\u001b[0;32m   3802\u001b[0m     \u001b[38;5;28;01mreturn\u001b[39;00m \u001b[38;5;28mself\u001b[39m\u001b[38;5;241m.\u001b[39m_engine\u001b[38;5;241m.\u001b[39mget_loc(casted_key)\n\u001b[0;32m   3803\u001b[0m \u001b[38;5;28;01mexcept\u001b[39;00m \u001b[38;5;167;01mKeyError\u001b[39;00m \u001b[38;5;28;01mas\u001b[39;00m err:\n\u001b[1;32m-> 3804\u001b[0m     \u001b[38;5;28;01mraise\u001b[39;00m \u001b[38;5;167;01mKeyError\u001b[39;00m(key) \u001b[38;5;28;01mfrom\u001b[39;00m \u001b[38;5;21;01merr\u001b[39;00m\n\u001b[0;32m   3805\u001b[0m \u001b[38;5;28;01mexcept\u001b[39;00m \u001b[38;5;167;01mTypeError\u001b[39;00m:\n\u001b[0;32m   3806\u001b[0m     \u001b[38;5;66;03m# If we have a listlike key, _check_indexing_error will raise\u001b[39;00m\n\u001b[0;32m   3807\u001b[0m     \u001b[38;5;66;03m#  InvalidIndexError. Otherwise we fall through and re-raise\u001b[39;00m\n\u001b[0;32m   3808\u001b[0m     \u001b[38;5;66;03m#  the TypeError.\u001b[39;00m\n\u001b[0;32m   3809\u001b[0m     \u001b[38;5;28mself\u001b[39m\u001b[38;5;241m.\u001b[39m_check_indexing_error(key)\n",
      "\u001b[1;31mKeyError\u001b[0m: 'timestamp'"
     ]
    }
   ],
   "source": [
    "df['timestamp']"
   ]
  },
  {
   "cell_type": "code",
   "execution_count": 73,
   "id": "5f496996",
   "metadata": {},
   "outputs": [
    {
     "ename": "SyntaxError",
     "evalue": "invalid syntax (3598775887.py, line 1)",
     "output_type": "error",
     "traceback": [
      "\u001b[1;36m  Cell \u001b[1;32mIn[73], line 1\u001b[1;36m\u001b[0m\n\u001b[1;33m    df1=df.columns[]\u001b[0m\n\u001b[1;37m                   ^\u001b[0m\n\u001b[1;31mSyntaxError\u001b[0m\u001b[1;31m:\u001b[0m invalid syntax\n"
     ]
    }
   ],
   "source": [
    "df1=df.columns[]\n",
    "df[df1=='time']"
   ]
  },
  {
   "cell_type": "code",
   "execution_count": 74,
   "id": "d1c36831",
   "metadata": {},
   "outputs": [
    {
     "data": {
      "text/plain": [
       "int64      44\n",
       "object     44\n",
       "float64    18\n",
       "dtype: int64"
      ]
     },
     "execution_count": 74,
     "metadata": {},
     "output_type": "execute_result"
    }
   ],
   "source": [
    "df.dtypes.value_counts()"
   ]
  },
  {
   "cell_type": "code",
   "execution_count": 75,
   "id": "00970bac",
   "metadata": {},
   "outputs": [
    {
     "name": "stdout",
     "output_type": "stream",
     "text": [
      "Empty DataFrame\n",
      "Columns: []\n",
      "Index: [0, 1, 2, 3, 4, 5, 6, 7, 8, 9, 10, 11, 12, 13, 14, 15, 16, 17, 18, 19, 20, 21, 22, 23, 24, 25, 26, 27, 28, 29, 30, 31, 32, 33, 34, 35, 36, 37, 38, 39, 40, 41, 42, 43, 44, 45, 46, 47, 48, 49, 50, 51, 52, 53, 54, 55, 56, 57, 58, 59, 60, 61, 62, 63, 64, 65, 66, 67, 68, 69, 70, 71, 72, 73, 74, 75, 76, 77, 78, 79, 80, 81, 82, 83, 84, 85, 86, 87, 88, 89, 90, 91, 92, 93, 94, 95, 96, 97, 98, 99, ...]\n",
      "\n",
      "[18944 rows x 0 columns]\n"
     ]
    }
   ],
   "source": [
    "time_related_columns = df.filter(regex='time', axis=1)\n",
    "print(time_related_columns)"
   ]
  },
  {
   "cell_type": "code",
   "execution_count": 76,
   "id": "008d445d",
   "metadata": {},
   "outputs": [
    {
     "data": {
      "text/plain": [
       "Index(['sofifa_id', 'player_url', 'short_name', 'long_name', 'age', 'dob',\n",
       "       'height_cm', 'weight_kg', 'nationality', 'club_name', 'league_name',\n",
       "       'league_rank', 'overall', 'potential', 'value_eur', 'wage_eur',\n",
       "       'player_positions', 'preferred_foot', 'international_reputation',\n",
       "       'weak_foot', 'skill_moves', 'work_rate', 'body_type', 'real_face',\n",
       "       'release_clause_eur', 'player_tags', 'team_position',\n",
       "       'team_jersey_number', 'loaned_from', 'joined', 'contract_valid_until',\n",
       "       'nation_position', 'nation_jersey_number', 'pace', 'shooting',\n",
       "       'passing', 'dribbling', 'defending', 'physic', 'gk_diving'],\n",
       "      dtype='object')"
      ]
     },
     "execution_count": 76,
     "metadata": {},
     "output_type": "execute_result"
    }
   ],
   "source": [
    "df.columns[:40]"
   ]
  },
  {
   "cell_type": "code",
   "execution_count": 78,
   "id": "9d990bce",
   "metadata": {},
   "outputs": [
    {
     "data": {
      "text/plain": [
       "count          18944\n",
       "unique          6236\n",
       "top       1992-02-29\n",
       "freq             128\n",
       "Name: dob, dtype: object"
      ]
     },
     "execution_count": 78,
     "metadata": {},
     "output_type": "execute_result"
    }
   ],
   "source": [
    "df['dob'].describe()"
   ]
  },
  {
   "cell_type": "code",
   "execution_count": 79,
   "id": "a1b17799",
   "metadata": {},
   "outputs": [
    {
     "data": {
      "text/plain": [
       "0        1987-06-24\n",
       "1        1985-02-05\n",
       "2        1993-01-07\n",
       "3        1988-08-21\n",
       "4        1992-02-05\n",
       "            ...    \n",
       "18939    1996-04-13\n",
       "18940    1999-04-26\n",
       "18941    2000-06-28\n",
       "18942    1997-02-20\n",
       "18943    1991-11-20\n",
       "Name: dob, Length: 18944, dtype: object"
      ]
     },
     "execution_count": 79,
     "metadata": {},
     "output_type": "execute_result"
    }
   ],
   "source": [
    "df['dob']"
   ]
  },
  {
   "cell_type": "markdown",
   "id": "a09e398e",
   "metadata": {},
   "source": [
    "What to do?\n",
    "We can convert the column to a DateTime format and even extract the specific year, month, weekday, etc"
   ]
  },
  {
   "cell_type": "code",
   "execution_count": 80,
   "id": "639fa204",
   "metadata": {},
   "outputs": [],
   "source": [
    "df['dob'] = pd.to_datetime(df['dob'], format='%Y-%m-%d')\n",
    "df['year'] = df['dob'].dt.year\n",
    "df['month'] = df['dob'].dt.month\n",
    "df['weekday'] = df['dob'].dt.weekday\n"
   ]
  },
  {
   "cell_type": "code",
   "execution_count": 81,
   "id": "ea138800",
   "metadata": {},
   "outputs": [
    {
     "data": {
      "text/html": [
       "<div>\n",
       "<style scoped>\n",
       "    .dataframe tbody tr th:only-of-type {\n",
       "        vertical-align: middle;\n",
       "    }\n",
       "\n",
       "    .dataframe tbody tr th {\n",
       "        vertical-align: top;\n",
       "    }\n",
       "\n",
       "    .dataframe thead th {\n",
       "        text-align: right;\n",
       "    }\n",
       "</style>\n",
       "<table border=\"1\" class=\"dataframe\">\n",
       "  <thead>\n",
       "    <tr style=\"text-align: right;\">\n",
       "      <th></th>\n",
       "      <th>dob</th>\n",
       "      <th>year</th>\n",
       "      <th>month</th>\n",
       "      <th>weekday</th>\n",
       "    </tr>\n",
       "  </thead>\n",
       "  <tbody>\n",
       "    <tr>\n",
       "      <th>0</th>\n",
       "      <td>1987-06-24</td>\n",
       "      <td>1987</td>\n",
       "      <td>6</td>\n",
       "      <td>2</td>\n",
       "    </tr>\n",
       "    <tr>\n",
       "      <th>1</th>\n",
       "      <td>1985-02-05</td>\n",
       "      <td>1985</td>\n",
       "      <td>2</td>\n",
       "      <td>1</td>\n",
       "    </tr>\n",
       "    <tr>\n",
       "      <th>2</th>\n",
       "      <td>1993-01-07</td>\n",
       "      <td>1993</td>\n",
       "      <td>1</td>\n",
       "      <td>3</td>\n",
       "    </tr>\n",
       "    <tr>\n",
       "      <th>3</th>\n",
       "      <td>1988-08-21</td>\n",
       "      <td>1988</td>\n",
       "      <td>8</td>\n",
       "      <td>6</td>\n",
       "    </tr>\n",
       "    <tr>\n",
       "      <th>4</th>\n",
       "      <td>1992-02-05</td>\n",
       "      <td>1992</td>\n",
       "      <td>2</td>\n",
       "      <td>2</td>\n",
       "    </tr>\n",
       "  </tbody>\n",
       "</table>\n",
       "</div>"
      ],
      "text/plain": [
       "         dob  year  month  weekday\n",
       "0 1987-06-24  1987      6        2\n",
       "1 1985-02-05  1985      2        1\n",
       "2 1993-01-07  1993      1        3\n",
       "3 1988-08-21  1988      8        6\n",
       "4 1992-02-05  1992      2        2"
      ]
     },
     "execution_count": 81,
     "metadata": {},
     "output_type": "execute_result"
    }
   ],
   "source": [
    "df[['dob', 'year', 'month', 'weekday']].head()"
   ]
  },
  {
   "cell_type": "markdown",
   "id": "8d4a97dd",
   "metadata": {},
   "source": [
    "Inconsistent type #3: typos of categorical values"
   ]
  },
  {
   "cell_type": "markdown",
   "id": "c147ef97",
   "metadata": {},
   "source": [
    "Inconsistent type #4: addresses"
   ]
  },
  {
   "cell_type": "code",
   "execution_count": 82,
   "id": "2143bdfe",
   "metadata": {},
   "outputs": [
    {
     "data": {
      "text/html": [
       "<div>\n",
       "<style scoped>\n",
       "    .dataframe tbody tr th:only-of-type {\n",
       "        vertical-align: middle;\n",
       "    }\n",
       "\n",
       "    .dataframe tbody tr th {\n",
       "        vertical-align: top;\n",
       "    }\n",
       "\n",
       "    .dataframe thead th {\n",
       "        text-align: right;\n",
       "    }\n",
       "</style>\n",
       "<table border=\"1\" class=\"dataframe\">\n",
       "  <thead>\n",
       "    <tr style=\"text-align: right;\">\n",
       "      <th></th>\n",
       "      <th>address</th>\n",
       "    </tr>\n",
       "  </thead>\n",
       "  <tbody>\n",
       "    <tr>\n",
       "      <th>0</th>\n",
       "      <td>123 MAIN St Apartment 15</td>\n",
       "    </tr>\n",
       "    <tr>\n",
       "      <th>1</th>\n",
       "      <td>123 Main Street Apt 12</td>\n",
       "    </tr>\n",
       "    <tr>\n",
       "      <th>2</th>\n",
       "      <td>543 FirSt Av</td>\n",
       "    </tr>\n",
       "    <tr>\n",
       "      <th>3</th>\n",
       "      <td>876 FIRst Ave.</td>\n",
       "    </tr>\n",
       "  </tbody>\n",
       "</table>\n",
       "</div>"
      ],
      "text/plain": [
       "                     address\n",
       "0   123 MAIN St Apartment 15\n",
       "1  123 Main Street Apt 12   \n",
       "2               543 FirSt Av\n",
       "3             876 FIRst Ave."
      ]
     },
     "execution_count": 82,
     "metadata": {},
     "output_type": "execute_result"
    }
   ],
   "source": [
    "df_add_ex = pd.DataFrame(['123 MAIN St Apartment 15', '123 Main Street Apt 12   ', '543 FirSt Av', '  876 FIRst Ave.'], columns=['address'])\n",
    "df_add_ex"
   ]
  },
  {
   "cell_type": "markdown",
   "id": "793c5abb",
   "metadata": {},
   "source": [
    "We can run the below code to:\n",
    "\n",
    "lowercase the letters\n",
    "remove leading and trailing white spaces\n",
    "delete periods\n",
    "standardize wordings"
   ]
  },
  {
   "cell_type": "markdown",
   "id": "827caa29",
   "metadata": {},
   "source": [
    "We are using regular expressions to specify search patterns. You can learn more about it"
   ]
  },
  {
   "cell_type": "code",
   "execution_count": 83,
   "id": "425ffdaf",
   "metadata": {},
   "outputs": [
    {
     "data": {
      "text/html": [
       "<div>\n",
       "<style scoped>\n",
       "    .dataframe tbody tr th:only-of-type {\n",
       "        vertical-align: middle;\n",
       "    }\n",
       "\n",
       "    .dataframe tbody tr th {\n",
       "        vertical-align: top;\n",
       "    }\n",
       "\n",
       "    .dataframe thead th {\n",
       "        text-align: right;\n",
       "    }\n",
       "</style>\n",
       "<table border=\"1\" class=\"dataframe\">\n",
       "  <thead>\n",
       "    <tr style=\"text-align: right;\">\n",
       "      <th></th>\n",
       "      <th>address</th>\n",
       "      <th>address_std</th>\n",
       "    </tr>\n",
       "  </thead>\n",
       "  <tbody>\n",
       "    <tr>\n",
       "      <th>0</th>\n",
       "      <td>123 MAIN St Apartment 15</td>\n",
       "      <td>123 main st apt 15</td>\n",
       "    </tr>\n",
       "    <tr>\n",
       "      <th>1</th>\n",
       "      <td>123 Main Street Apt 12</td>\n",
       "      <td>123 main st apt 12</td>\n",
       "    </tr>\n",
       "    <tr>\n",
       "      <th>2</th>\n",
       "      <td>543 FirSt Av</td>\n",
       "      <td>543 first ave</td>\n",
       "    </tr>\n",
       "    <tr>\n",
       "      <th>3</th>\n",
       "      <td>876 FIRst Ave.</td>\n",
       "      <td>876 first ave</td>\n",
       "    </tr>\n",
       "  </tbody>\n",
       "</table>\n",
       "</div>"
      ],
      "text/plain": [
       "                     address         address_std\n",
       "0   123 MAIN St Apartment 15  123 main st apt 15\n",
       "1  123 Main Street Apt 12     123 main st apt 12\n",
       "2               543 FirSt Av       543 first ave\n",
       "3             876 FIRst Ave.       876 first ave"
      ]
     },
     "execution_count": 83,
     "metadata": {},
     "output_type": "execute_result"
    }
   ],
   "source": [
    "\n",
    "df_add_ex['address_std'] = df_add_ex['address'].str.lower()\n",
    "df_add_ex['address_std'] = df_add_ex['address_std'].str.strip() # remove leading and trailing whitespaces.\n",
    "df_add_ex['address_std'] = df_add_ex['address_std'].str.replace('\\\\.', '', regex=True) # remove period.\n",
    "df_add_ex['address_std'] = df_add_ex['address_std'].str.replace('\\\\bstreet\\\\b', 'st', regex=True) # replace street with st.\n",
    "df_add_ex['address_std'] = df_add_ex['address_std'].str.replace('\\\\bapartment\\\\b', 'apt', regex=True) # replace apartment with apt.\n",
    "df_add_ex['address_std'] = df_add_ex['address_std'].str.replace('\\\\bav\\\\b', 'ave', regex=True) # replace av with ave.\n",
    "\n",
    "df_add_ex"
   ]
  },
  {
   "cell_type": "code",
   "execution_count": null,
   "id": "d828fb2e",
   "metadata": {},
   "outputs": [],
   "source": []
  }
 ],
 "metadata": {
  "kernelspec": {
   "display_name": "Python 3 (ipykernel)",
   "language": "python",
   "name": "python3"
  },
  "language_info": {
   "codemirror_mode": {
    "name": "ipython",
    "version": 3
   },
   "file_extension": ".py",
   "mimetype": "text/x-python",
   "name": "python",
   "nbconvert_exporter": "python",
   "pygments_lexer": "ipython3",
   "version": "3.10.9"
  }
 },
 "nbformat": 4,
 "nbformat_minor": 5
}
